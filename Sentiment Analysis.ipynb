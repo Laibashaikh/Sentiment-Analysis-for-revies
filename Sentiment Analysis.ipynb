{
 "cells": [
  {
   "cell_type": "code",
   "execution_count": 6,
   "id": "f50138ee",
   "metadata": {},
   "outputs": [],
   "source": [
    "import pandas as pd"
   ]
  },
  {
   "cell_type": "code",
   "execution_count": 7,
   "id": "de239f91",
   "metadata": {},
   "outputs": [
    {
     "data": {
      "text/html": [
       "<div>\n",
       "<style scoped>\n",
       "    .dataframe tbody tr th:only-of-type {\n",
       "        vertical-align: middle;\n",
       "    }\n",
       "\n",
       "    .dataframe tbody tr th {\n",
       "        vertical-align: top;\n",
       "    }\n",
       "\n",
       "    .dataframe thead th {\n",
       "        text-align: right;\n",
       "    }\n",
       "</style>\n",
       "<table border=\"1\" class=\"dataframe\">\n",
       "  <thead>\n",
       "    <tr style=\"text-align: right;\">\n",
       "      <th></th>\n",
       "      <th>Time_submitted</th>\n",
       "      <th>Review</th>\n",
       "      <th>Rating</th>\n",
       "      <th>Total_thumbsup</th>\n",
       "      <th>Reply</th>\n",
       "    </tr>\n",
       "  </thead>\n",
       "  <tbody>\n",
       "    <tr>\n",
       "      <th>0</th>\n",
       "      <td>2022-07-09 15:00:00</td>\n",
       "      <td>Great music service, the audio is high quality...</td>\n",
       "      <td>5</td>\n",
       "      <td>2</td>\n",
       "      <td>NaN</td>\n",
       "    </tr>\n",
       "    <tr>\n",
       "      <th>1</th>\n",
       "      <td>2022-07-09 14:21:22</td>\n",
       "      <td>Please ignore previous negative rating. This a...</td>\n",
       "      <td>5</td>\n",
       "      <td>1</td>\n",
       "      <td>NaN</td>\n",
       "    </tr>\n",
       "    <tr>\n",
       "      <th>2</th>\n",
       "      <td>2022-07-09 13:27:32</td>\n",
       "      <td>This pop-up \"Get the best Spotify experience o...</td>\n",
       "      <td>4</td>\n",
       "      <td>0</td>\n",
       "      <td>NaN</td>\n",
       "    </tr>\n",
       "    <tr>\n",
       "      <th>3</th>\n",
       "      <td>2022-07-09 13:26:45</td>\n",
       "      <td>Really buggy and terrible to use as of recently</td>\n",
       "      <td>1</td>\n",
       "      <td>1</td>\n",
       "      <td>NaN</td>\n",
       "    </tr>\n",
       "    <tr>\n",
       "      <th>4</th>\n",
       "      <td>2022-07-09 13:20:49</td>\n",
       "      <td>Dear Spotify why do I get songs that I didn't ...</td>\n",
       "      <td>1</td>\n",
       "      <td>1</td>\n",
       "      <td>NaN</td>\n",
       "    </tr>\n",
       "  </tbody>\n",
       "</table>\n",
       "</div>"
      ],
      "text/plain": [
       "        Time_submitted                                             Review  \\\n",
       "0  2022-07-09 15:00:00  Great music service, the audio is high quality...   \n",
       "1  2022-07-09 14:21:22  Please ignore previous negative rating. This a...   \n",
       "2  2022-07-09 13:27:32  This pop-up \"Get the best Spotify experience o...   \n",
       "3  2022-07-09 13:26:45    Really buggy and terrible to use as of recently   \n",
       "4  2022-07-09 13:20:49  Dear Spotify why do I get songs that I didn't ...   \n",
       "\n",
       "   Rating  Total_thumbsup Reply  \n",
       "0       5               2   NaN  \n",
       "1       5               1   NaN  \n",
       "2       4               0   NaN  \n",
       "3       1               1   NaN  \n",
       "4       1               1   NaN  "
      ]
     },
     "execution_count": 7,
     "metadata": {},
     "output_type": "execute_result"
    }
   ],
   "source": [
    "data=pd.read_csv(\"reviews.csv\")\n",
    "data.head()"
   ]
  },
  {
   "cell_type": "code",
   "execution_count": 8,
   "id": "64ecb690",
   "metadata": {},
   "outputs": [
    {
     "data": {
      "text/plain": [
       "Index(['Time_submitted', 'Review', 'Rating', 'Total_thumbsup', 'Reply'], dtype='object')"
      ]
     },
     "execution_count": 8,
     "metadata": {},
     "output_type": "execute_result"
    }
   ],
   "source": [
    "data.columns"
   ]
  },
  {
   "cell_type": "code",
   "execution_count": 9,
   "id": "c19e58fa",
   "metadata": {},
   "outputs": [
    {
     "data": {
      "text/html": [
       "<div>\n",
       "<style scoped>\n",
       "    .dataframe tbody tr th:only-of-type {\n",
       "        vertical-align: middle;\n",
       "    }\n",
       "\n",
       "    .dataframe tbody tr th {\n",
       "        vertical-align: top;\n",
       "    }\n",
       "\n",
       "    .dataframe thead th {\n",
       "        text-align: right;\n",
       "    }\n",
       "</style>\n",
       "<table border=\"1\" class=\"dataframe\">\n",
       "  <thead>\n",
       "    <tr style=\"text-align: right;\">\n",
       "      <th></th>\n",
       "      <th>Time_submitted</th>\n",
       "      <th>Review</th>\n",
       "      <th>Rating</th>\n",
       "      <th>Total_thumbsup</th>\n",
       "      <th>Reply</th>\n",
       "    </tr>\n",
       "  </thead>\n",
       "  <tbody>\n",
       "    <tr>\n",
       "      <th>61589</th>\n",
       "      <td>2022-01-01 03:01:29</td>\n",
       "      <td>Even though it was communicated that lyrics fe...</td>\n",
       "      <td>1</td>\n",
       "      <td>6</td>\n",
       "      <td>NaN</td>\n",
       "    </tr>\n",
       "    <tr>\n",
       "      <th>61590</th>\n",
       "      <td>2022-01-01 02:13:40</td>\n",
       "      <td>Use to be sooo good back when I had it, and wh...</td>\n",
       "      <td>1</td>\n",
       "      <td>0</td>\n",
       "      <td>NaN</td>\n",
       "    </tr>\n",
       "    <tr>\n",
       "      <th>61591</th>\n",
       "      <td>2022-01-01 01:02:29</td>\n",
       "      <td>This app would be good if not for it taking ov...</td>\n",
       "      <td>2</td>\n",
       "      <td>10</td>\n",
       "      <td>NaN</td>\n",
       "    </tr>\n",
       "    <tr>\n",
       "      <th>61592</th>\n",
       "      <td>2022-01-01 00:49:23</td>\n",
       "      <td>The app is good hard to navigate and won't jus...</td>\n",
       "      <td>2</td>\n",
       "      <td>1</td>\n",
       "      <td>NaN</td>\n",
       "    </tr>\n",
       "    <tr>\n",
       "      <th>61593</th>\n",
       "      <td>2022-01-01 00:19:09</td>\n",
       "      <td>Its good but sometimes it doesnt load the musi...</td>\n",
       "      <td>4</td>\n",
       "      <td>0</td>\n",
       "      <td>NaN</td>\n",
       "    </tr>\n",
       "  </tbody>\n",
       "</table>\n",
       "</div>"
      ],
      "text/plain": [
       "            Time_submitted                                             Review  \\\n",
       "61589  2022-01-01 03:01:29  Even though it was communicated that lyrics fe...   \n",
       "61590  2022-01-01 02:13:40  Use to be sooo good back when I had it, and wh...   \n",
       "61591  2022-01-01 01:02:29  This app would be good if not for it taking ov...   \n",
       "61592  2022-01-01 00:49:23  The app is good hard to navigate and won't jus...   \n",
       "61593  2022-01-01 00:19:09  Its good but sometimes it doesnt load the musi...   \n",
       "\n",
       "       Rating  Total_thumbsup Reply  \n",
       "61589       1               6   NaN  \n",
       "61590       1               0   NaN  \n",
       "61591       2              10   NaN  \n",
       "61592       2               1   NaN  \n",
       "61593       4               0   NaN  "
      ]
     },
     "execution_count": 9,
     "metadata": {},
     "output_type": "execute_result"
    }
   ],
   "source": [
    "data.tail()"
   ]
  },
  {
   "cell_type": "code",
   "execution_count": 10,
   "id": "b3cf16e9",
   "metadata": {},
   "outputs": [
    {
     "data": {
      "text/plain": [
       "(61594, 5)"
      ]
     },
     "execution_count": 10,
     "metadata": {},
     "output_type": "execute_result"
    }
   ],
   "source": [
    "data.shape"
   ]
  },
  {
   "cell_type": "code",
   "execution_count": 11,
   "id": "32f0b247",
   "metadata": {},
   "outputs": [
    {
     "name": "stdout",
     "output_type": "stream",
     "text": [
      "<class 'pandas.core.frame.DataFrame'>\n",
      "RangeIndex: 61594 entries, 0 to 61593\n",
      "Data columns (total 5 columns):\n",
      " #   Column          Non-Null Count  Dtype \n",
      "---  ------          --------------  ----- \n",
      " 0   Time_submitted  61594 non-null  object\n",
      " 1   Review          61594 non-null  object\n",
      " 2   Rating          61594 non-null  int64 \n",
      " 3   Total_thumbsup  61594 non-null  int64 \n",
      " 4   Reply           216 non-null    object\n",
      "dtypes: int64(2), object(3)\n",
      "memory usage: 2.3+ MB\n"
     ]
    }
   ],
   "source": [
    "data.info()"
   ]
  },
  {
   "cell_type": "code",
   "execution_count": 12,
   "id": "935c9931",
   "metadata": {},
   "outputs": [
    {
     "data": {
      "text/html": [
       "<div>\n",
       "<style scoped>\n",
       "    .dataframe tbody tr th:only-of-type {\n",
       "        vertical-align: middle;\n",
       "    }\n",
       "\n",
       "    .dataframe tbody tr th {\n",
       "        vertical-align: top;\n",
       "    }\n",
       "\n",
       "    .dataframe thead th {\n",
       "        text-align: right;\n",
       "    }\n",
       "</style>\n",
       "<table border=\"1\" class=\"dataframe\">\n",
       "  <thead>\n",
       "    <tr style=\"text-align: right;\">\n",
       "      <th></th>\n",
       "      <th>Rating</th>\n",
       "      <th>Total_thumbsup</th>\n",
       "    </tr>\n",
       "  </thead>\n",
       "  <tbody>\n",
       "    <tr>\n",
       "      <th>count</th>\n",
       "      <td>61594.000000</td>\n",
       "      <td>61594.000000</td>\n",
       "    </tr>\n",
       "    <tr>\n",
       "      <th>mean</th>\n",
       "      <td>3.155989</td>\n",
       "      <td>7.649381</td>\n",
       "    </tr>\n",
       "    <tr>\n",
       "      <th>std</th>\n",
       "      <td>1.673285</td>\n",
       "      <td>89.323143</td>\n",
       "    </tr>\n",
       "    <tr>\n",
       "      <th>min</th>\n",
       "      <td>1.000000</td>\n",
       "      <td>0.000000</td>\n",
       "    </tr>\n",
       "    <tr>\n",
       "      <th>25%</th>\n",
       "      <td>1.000000</td>\n",
       "      <td>0.000000</td>\n",
       "    </tr>\n",
       "    <tr>\n",
       "      <th>50%</th>\n",
       "      <td>3.000000</td>\n",
       "      <td>0.000000</td>\n",
       "    </tr>\n",
       "    <tr>\n",
       "      <th>75%</th>\n",
       "      <td>5.000000</td>\n",
       "      <td>1.000000</td>\n",
       "    </tr>\n",
       "    <tr>\n",
       "      <th>max</th>\n",
       "      <td>5.000000</td>\n",
       "      <td>8195.000000</td>\n",
       "    </tr>\n",
       "  </tbody>\n",
       "</table>\n",
       "</div>"
      ],
      "text/plain": [
       "             Rating  Total_thumbsup\n",
       "count  61594.000000    61594.000000\n",
       "mean       3.155989        7.649381\n",
       "std        1.673285       89.323143\n",
       "min        1.000000        0.000000\n",
       "25%        1.000000        0.000000\n",
       "50%        3.000000        0.000000\n",
       "75%        5.000000        1.000000\n",
       "max        5.000000     8195.000000"
      ]
     },
     "execution_count": 12,
     "metadata": {},
     "output_type": "execute_result"
    }
   ],
   "source": [
    "data.describe()"
   ]
  },
  {
   "cell_type": "code",
   "execution_count": 13,
   "id": "4a458042",
   "metadata": {},
   "outputs": [
    {
     "data": {
      "text/html": [
       "<div>\n",
       "<style scoped>\n",
       "    .dataframe tbody tr th:only-of-type {\n",
       "        vertical-align: middle;\n",
       "    }\n",
       "\n",
       "    .dataframe tbody tr th {\n",
       "        vertical-align: top;\n",
       "    }\n",
       "\n",
       "    .dataframe thead th {\n",
       "        text-align: right;\n",
       "    }\n",
       "</style>\n",
       "<table border=\"1\" class=\"dataframe\">\n",
       "  <thead>\n",
       "    <tr style=\"text-align: right;\">\n",
       "      <th></th>\n",
       "      <th>Review</th>\n",
       "      <th>Rating</th>\n",
       "      <th>Total_thumbsup</th>\n",
       "      <th>Reply</th>\n",
       "    </tr>\n",
       "  </thead>\n",
       "  <tbody>\n",
       "    <tr>\n",
       "      <th>0</th>\n",
       "      <td>Great music service, the audio is high quality...</td>\n",
       "      <td>5</td>\n",
       "      <td>2</td>\n",
       "      <td>NaN</td>\n",
       "    </tr>\n",
       "    <tr>\n",
       "      <th>1</th>\n",
       "      <td>Please ignore previous negative rating. This a...</td>\n",
       "      <td>5</td>\n",
       "      <td>1</td>\n",
       "      <td>NaN</td>\n",
       "    </tr>\n",
       "    <tr>\n",
       "      <th>2</th>\n",
       "      <td>This pop-up \"Get the best Spotify experience o...</td>\n",
       "      <td>4</td>\n",
       "      <td>0</td>\n",
       "      <td>NaN</td>\n",
       "    </tr>\n",
       "    <tr>\n",
       "      <th>3</th>\n",
       "      <td>Really buggy and terrible to use as of recently</td>\n",
       "      <td>1</td>\n",
       "      <td>1</td>\n",
       "      <td>NaN</td>\n",
       "    </tr>\n",
       "    <tr>\n",
       "      <th>4</th>\n",
       "      <td>Dear Spotify why do I get songs that I didn't ...</td>\n",
       "      <td>1</td>\n",
       "      <td>1</td>\n",
       "      <td>NaN</td>\n",
       "    </tr>\n",
       "    <tr>\n",
       "      <th>...</th>\n",
       "      <td>...</td>\n",
       "      <td>...</td>\n",
       "      <td>...</td>\n",
       "      <td>...</td>\n",
       "    </tr>\n",
       "    <tr>\n",
       "      <th>61589</th>\n",
       "      <td>Even though it was communicated that lyrics fe...</td>\n",
       "      <td>1</td>\n",
       "      <td>6</td>\n",
       "      <td>NaN</td>\n",
       "    </tr>\n",
       "    <tr>\n",
       "      <th>61590</th>\n",
       "      <td>Use to be sooo good back when I had it, and wh...</td>\n",
       "      <td>1</td>\n",
       "      <td>0</td>\n",
       "      <td>NaN</td>\n",
       "    </tr>\n",
       "    <tr>\n",
       "      <th>61591</th>\n",
       "      <td>This app would be good if not for it taking ov...</td>\n",
       "      <td>2</td>\n",
       "      <td>10</td>\n",
       "      <td>NaN</td>\n",
       "    </tr>\n",
       "    <tr>\n",
       "      <th>61592</th>\n",
       "      <td>The app is good hard to navigate and won't jus...</td>\n",
       "      <td>2</td>\n",
       "      <td>1</td>\n",
       "      <td>NaN</td>\n",
       "    </tr>\n",
       "    <tr>\n",
       "      <th>61593</th>\n",
       "      <td>Its good but sometimes it doesnt load the musi...</td>\n",
       "      <td>4</td>\n",
       "      <td>0</td>\n",
       "      <td>NaN</td>\n",
       "    </tr>\n",
       "  </tbody>\n",
       "</table>\n",
       "<p>61594 rows × 4 columns</p>\n",
       "</div>"
      ],
      "text/plain": [
       "                                                  Review  Rating  \\\n",
       "0      Great music service, the audio is high quality...       5   \n",
       "1      Please ignore previous negative rating. This a...       5   \n",
       "2      This pop-up \"Get the best Spotify experience o...       4   \n",
       "3        Really buggy and terrible to use as of recently       1   \n",
       "4      Dear Spotify why do I get songs that I didn't ...       1   \n",
       "...                                                  ...     ...   \n",
       "61589  Even though it was communicated that lyrics fe...       1   \n",
       "61590  Use to be sooo good back when I had it, and wh...       1   \n",
       "61591  This app would be good if not for it taking ov...       2   \n",
       "61592  The app is good hard to navigate and won't jus...       2   \n",
       "61593  Its good but sometimes it doesnt load the musi...       4   \n",
       "\n",
       "       Total_thumbsup Reply  \n",
       "0                   2   NaN  \n",
       "1                   1   NaN  \n",
       "2                   0   NaN  \n",
       "3                   1   NaN  \n",
       "4                   1   NaN  \n",
       "...               ...   ...  \n",
       "61589               6   NaN  \n",
       "61590               0   NaN  \n",
       "61591              10   NaN  \n",
       "61592               1   NaN  \n",
       "61593               0   NaN  \n",
       "\n",
       "[61594 rows x 4 columns]"
      ]
     },
     "execution_count": 13,
     "metadata": {},
     "output_type": "execute_result"
    }
   ],
   "source": [
    "data=data.drop('Time_submitted',axis=1)\n",
    "data"
   ]
  },
  {
   "cell_type": "code",
   "execution_count": 14,
   "id": "3622691f",
   "metadata": {},
   "outputs": [
    {
     "data": {
      "text/html": [
       "<div>\n",
       "<style scoped>\n",
       "    .dataframe tbody tr th:only-of-type {\n",
       "        vertical-align: middle;\n",
       "    }\n",
       "\n",
       "    .dataframe tbody tr th {\n",
       "        vertical-align: top;\n",
       "    }\n",
       "\n",
       "    .dataframe thead th {\n",
       "        text-align: right;\n",
       "    }\n",
       "</style>\n",
       "<table border=\"1\" class=\"dataframe\">\n",
       "  <thead>\n",
       "    <tr style=\"text-align: right;\">\n",
       "      <th></th>\n",
       "      <th>Review</th>\n",
       "      <th>Rating</th>\n",
       "      <th>Reply</th>\n",
       "    </tr>\n",
       "  </thead>\n",
       "  <tbody>\n",
       "    <tr>\n",
       "      <th>0</th>\n",
       "      <td>Great music service, the audio is high quality...</td>\n",
       "      <td>5</td>\n",
       "      <td>NaN</td>\n",
       "    </tr>\n",
       "    <tr>\n",
       "      <th>1</th>\n",
       "      <td>Please ignore previous negative rating. This a...</td>\n",
       "      <td>5</td>\n",
       "      <td>NaN</td>\n",
       "    </tr>\n",
       "    <tr>\n",
       "      <th>2</th>\n",
       "      <td>This pop-up \"Get the best Spotify experience o...</td>\n",
       "      <td>4</td>\n",
       "      <td>NaN</td>\n",
       "    </tr>\n",
       "    <tr>\n",
       "      <th>3</th>\n",
       "      <td>Really buggy and terrible to use as of recently</td>\n",
       "      <td>1</td>\n",
       "      <td>NaN</td>\n",
       "    </tr>\n",
       "    <tr>\n",
       "      <th>4</th>\n",
       "      <td>Dear Spotify why do I get songs that I didn't ...</td>\n",
       "      <td>1</td>\n",
       "      <td>NaN</td>\n",
       "    </tr>\n",
       "    <tr>\n",
       "      <th>...</th>\n",
       "      <td>...</td>\n",
       "      <td>...</td>\n",
       "      <td>...</td>\n",
       "    </tr>\n",
       "    <tr>\n",
       "      <th>61589</th>\n",
       "      <td>Even though it was communicated that lyrics fe...</td>\n",
       "      <td>1</td>\n",
       "      <td>NaN</td>\n",
       "    </tr>\n",
       "    <tr>\n",
       "      <th>61590</th>\n",
       "      <td>Use to be sooo good back when I had it, and wh...</td>\n",
       "      <td>1</td>\n",
       "      <td>NaN</td>\n",
       "    </tr>\n",
       "    <tr>\n",
       "      <th>61591</th>\n",
       "      <td>This app would be good if not for it taking ov...</td>\n",
       "      <td>2</td>\n",
       "      <td>NaN</td>\n",
       "    </tr>\n",
       "    <tr>\n",
       "      <th>61592</th>\n",
       "      <td>The app is good hard to navigate and won't jus...</td>\n",
       "      <td>2</td>\n",
       "      <td>NaN</td>\n",
       "    </tr>\n",
       "    <tr>\n",
       "      <th>61593</th>\n",
       "      <td>Its good but sometimes it doesnt load the musi...</td>\n",
       "      <td>4</td>\n",
       "      <td>NaN</td>\n",
       "    </tr>\n",
       "  </tbody>\n",
       "</table>\n",
       "<p>61594 rows × 3 columns</p>\n",
       "</div>"
      ],
      "text/plain": [
       "                                                  Review  Rating Reply\n",
       "0      Great music service, the audio is high quality...       5   NaN\n",
       "1      Please ignore previous negative rating. This a...       5   NaN\n",
       "2      This pop-up \"Get the best Spotify experience o...       4   NaN\n",
       "3        Really buggy and terrible to use as of recently       1   NaN\n",
       "4      Dear Spotify why do I get songs that I didn't ...       1   NaN\n",
       "...                                                  ...     ...   ...\n",
       "61589  Even though it was communicated that lyrics fe...       1   NaN\n",
       "61590  Use to be sooo good back when I had it, and wh...       1   NaN\n",
       "61591  This app would be good if not for it taking ov...       2   NaN\n",
       "61592  The app is good hard to navigate and won't jus...       2   NaN\n",
       "61593  Its good but sometimes it doesnt load the musi...       4   NaN\n",
       "\n",
       "[61594 rows x 3 columns]"
      ]
     },
     "execution_count": 14,
     "metadata": {},
     "output_type": "execute_result"
    }
   ],
   "source": [
    "data=data.drop('Total_thumbsup',axis=1)\n",
    "data"
   ]
  },
  {
   "cell_type": "code",
   "execution_count": 15,
   "id": "962cc946",
   "metadata": {},
   "outputs": [
    {
     "data": {
      "text/html": [
       "<div>\n",
       "<style scoped>\n",
       "    .dataframe tbody tr th:only-of-type {\n",
       "        vertical-align: middle;\n",
       "    }\n",
       "\n",
       "    .dataframe tbody tr th {\n",
       "        vertical-align: top;\n",
       "    }\n",
       "\n",
       "    .dataframe thead th {\n",
       "        text-align: right;\n",
       "    }\n",
       "</style>\n",
       "<table border=\"1\" class=\"dataframe\">\n",
       "  <thead>\n",
       "    <tr style=\"text-align: right;\">\n",
       "      <th></th>\n",
       "      <th>Review</th>\n",
       "      <th>Rating</th>\n",
       "    </tr>\n",
       "  </thead>\n",
       "  <tbody>\n",
       "    <tr>\n",
       "      <th>0</th>\n",
       "      <td>Great music service, the audio is high quality...</td>\n",
       "      <td>5</td>\n",
       "    </tr>\n",
       "    <tr>\n",
       "      <th>1</th>\n",
       "      <td>Please ignore previous negative rating. This a...</td>\n",
       "      <td>5</td>\n",
       "    </tr>\n",
       "    <tr>\n",
       "      <th>2</th>\n",
       "      <td>This pop-up \"Get the best Spotify experience o...</td>\n",
       "      <td>4</td>\n",
       "    </tr>\n",
       "    <tr>\n",
       "      <th>3</th>\n",
       "      <td>Really buggy and terrible to use as of recently</td>\n",
       "      <td>1</td>\n",
       "    </tr>\n",
       "    <tr>\n",
       "      <th>4</th>\n",
       "      <td>Dear Spotify why do I get songs that I didn't ...</td>\n",
       "      <td>1</td>\n",
       "    </tr>\n",
       "    <tr>\n",
       "      <th>...</th>\n",
       "      <td>...</td>\n",
       "      <td>...</td>\n",
       "    </tr>\n",
       "    <tr>\n",
       "      <th>61589</th>\n",
       "      <td>Even though it was communicated that lyrics fe...</td>\n",
       "      <td>1</td>\n",
       "    </tr>\n",
       "    <tr>\n",
       "      <th>61590</th>\n",
       "      <td>Use to be sooo good back when I had it, and wh...</td>\n",
       "      <td>1</td>\n",
       "    </tr>\n",
       "    <tr>\n",
       "      <th>61591</th>\n",
       "      <td>This app would be good if not for it taking ov...</td>\n",
       "      <td>2</td>\n",
       "    </tr>\n",
       "    <tr>\n",
       "      <th>61592</th>\n",
       "      <td>The app is good hard to navigate and won't jus...</td>\n",
       "      <td>2</td>\n",
       "    </tr>\n",
       "    <tr>\n",
       "      <th>61593</th>\n",
       "      <td>Its good but sometimes it doesnt load the musi...</td>\n",
       "      <td>4</td>\n",
       "    </tr>\n",
       "  </tbody>\n",
       "</table>\n",
       "<p>61594 rows × 2 columns</p>\n",
       "</div>"
      ],
      "text/plain": [
       "                                                  Review  Rating\n",
       "0      Great music service, the audio is high quality...       5\n",
       "1      Please ignore previous negative rating. This a...       5\n",
       "2      This pop-up \"Get the best Spotify experience o...       4\n",
       "3        Really buggy and terrible to use as of recently       1\n",
       "4      Dear Spotify why do I get songs that I didn't ...       1\n",
       "...                                                  ...     ...\n",
       "61589  Even though it was communicated that lyrics fe...       1\n",
       "61590  Use to be sooo good back when I had it, and wh...       1\n",
       "61591  This app would be good if not for it taking ov...       2\n",
       "61592  The app is good hard to navigate and won't jus...       2\n",
       "61593  Its good but sometimes it doesnt load the musi...       4\n",
       "\n",
       "[61594 rows x 2 columns]"
      ]
     },
     "execution_count": 15,
     "metadata": {},
     "output_type": "execute_result"
    }
   ],
   "source": [
    "data=data.drop('Reply',axis=1)\n",
    "data"
   ]
  },
  {
   "cell_type": "code",
   "execution_count": 16,
   "id": "0650d437",
   "metadata": {},
   "outputs": [
    {
     "data": {
      "text/plain": [
       "Review    0\n",
       "Rating    0\n",
       "dtype: int64"
      ]
     },
     "execution_count": 16,
     "metadata": {},
     "output_type": "execute_result"
    }
   ],
   "source": [
    "data.isna().sum()"
   ]
  },
  {
   "cell_type": "code",
   "execution_count": 17,
   "id": "807c2827",
   "metadata": {},
   "outputs": [
    {
     "data": {
      "text/plain": [
       "201"
      ]
     },
     "execution_count": 17,
     "metadata": {},
     "output_type": "execute_result"
    }
   ],
   "source": [
    "data.duplicated().sum()"
   ]
  },
  {
   "cell_type": "code",
   "execution_count": 18,
   "id": "653f2a1c",
   "metadata": {},
   "outputs": [],
   "source": [
    "data.drop_duplicates(inplace=True)"
   ]
  },
  {
   "cell_type": "code",
   "execution_count": 19,
   "id": "7a3f3e1c",
   "metadata": {},
   "outputs": [
    {
     "data": {
      "text/plain": [
       "0"
      ]
     },
     "execution_count": 19,
     "metadata": {},
     "output_type": "execute_result"
    }
   ],
   "source": [
    "data.duplicated().sum()"
   ]
  },
  {
   "cell_type": "code",
   "execution_count": 20,
   "id": "b2f99edd",
   "metadata": {},
   "outputs": [],
   "source": [
    "blanks=[]\n",
    "for index in data['Review']:\n",
    "    if index.isspace() == True:\n",
    "        blanks.append(index)"
   ]
  },
  {
   "cell_type": "code",
   "execution_count": 21,
   "id": "1adc356b",
   "metadata": {},
   "outputs": [
    {
     "name": "stdout",
     "output_type": "stream",
     "text": [
      "[]\n"
     ]
    }
   ],
   "source": [
    "print(blanks)"
   ]
  },
  {
   "cell_type": "code",
   "execution_count": 22,
   "id": "a1635771",
   "metadata": {},
   "outputs": [
    {
     "data": {
      "text/plain": [
       "3     6881\n",
       "2     7114\n",
       "4     7831\n",
       "1    17617\n",
       "5    21950\n",
       "Name: Rating, dtype: int64"
      ]
     },
     "execution_count": 22,
     "metadata": {},
     "output_type": "execute_result"
    }
   ],
   "source": [
    "data['Rating'].value_counts().sort_values()"
   ]
  },
  {
   "cell_type": "code",
   "execution_count": 23,
   "id": "f12adc05",
   "metadata": {},
   "outputs": [],
   "source": [
    "def rating(rating):\n",
    "    if rating >= 3 and rating <= 5:\n",
    "        return 'Positive'\n",
    "    if rating > 0 and rating < 3:\n",
    "        return 'Negative'"
   ]
  },
  {
   "cell_type": "code",
   "execution_count": 24,
   "id": "487e5705",
   "metadata": {},
   "outputs": [],
   "source": [
    "data['Positive/Negative'] = data['Rating'].apply(rating)"
   ]
  },
  {
   "cell_type": "code",
   "execution_count": 25,
   "id": "cf43573c",
   "metadata": {},
   "outputs": [
    {
     "data": {
      "text/html": [
       "<div>\n",
       "<style scoped>\n",
       "    .dataframe tbody tr th:only-of-type {\n",
       "        vertical-align: middle;\n",
       "    }\n",
       "\n",
       "    .dataframe tbody tr th {\n",
       "        vertical-align: top;\n",
       "    }\n",
       "\n",
       "    .dataframe thead th {\n",
       "        text-align: right;\n",
       "    }\n",
       "</style>\n",
       "<table border=\"1\" class=\"dataframe\">\n",
       "  <thead>\n",
       "    <tr style=\"text-align: right;\">\n",
       "      <th></th>\n",
       "      <th>Review</th>\n",
       "      <th>Rating</th>\n",
       "      <th>Positive/Negative</th>\n",
       "    </tr>\n",
       "  </thead>\n",
       "  <tbody>\n",
       "    <tr>\n",
       "      <th>0</th>\n",
       "      <td>Great music service, the audio is high quality...</td>\n",
       "      <td>5</td>\n",
       "      <td>Positive</td>\n",
       "    </tr>\n",
       "    <tr>\n",
       "      <th>1</th>\n",
       "      <td>Please ignore previous negative rating. This a...</td>\n",
       "      <td>5</td>\n",
       "      <td>Positive</td>\n",
       "    </tr>\n",
       "    <tr>\n",
       "      <th>2</th>\n",
       "      <td>This pop-up \"Get the best Spotify experience o...</td>\n",
       "      <td>4</td>\n",
       "      <td>Positive</td>\n",
       "    </tr>\n",
       "    <tr>\n",
       "      <th>3</th>\n",
       "      <td>Really buggy and terrible to use as of recently</td>\n",
       "      <td>1</td>\n",
       "      <td>Negative</td>\n",
       "    </tr>\n",
       "    <tr>\n",
       "      <th>4</th>\n",
       "      <td>Dear Spotify why do I get songs that I didn't ...</td>\n",
       "      <td>1</td>\n",
       "      <td>Negative</td>\n",
       "    </tr>\n",
       "    <tr>\n",
       "      <th>...</th>\n",
       "      <td>...</td>\n",
       "      <td>...</td>\n",
       "      <td>...</td>\n",
       "    </tr>\n",
       "    <tr>\n",
       "      <th>61589</th>\n",
       "      <td>Even though it was communicated that lyrics fe...</td>\n",
       "      <td>1</td>\n",
       "      <td>Negative</td>\n",
       "    </tr>\n",
       "    <tr>\n",
       "      <th>61590</th>\n",
       "      <td>Use to be sooo good back when I had it, and wh...</td>\n",
       "      <td>1</td>\n",
       "      <td>Negative</td>\n",
       "    </tr>\n",
       "    <tr>\n",
       "      <th>61591</th>\n",
       "      <td>This app would be good if not for it taking ov...</td>\n",
       "      <td>2</td>\n",
       "      <td>Negative</td>\n",
       "    </tr>\n",
       "    <tr>\n",
       "      <th>61592</th>\n",
       "      <td>The app is good hard to navigate and won't jus...</td>\n",
       "      <td>2</td>\n",
       "      <td>Negative</td>\n",
       "    </tr>\n",
       "    <tr>\n",
       "      <th>61593</th>\n",
       "      <td>Its good but sometimes it doesnt load the musi...</td>\n",
       "      <td>4</td>\n",
       "      <td>Positive</td>\n",
       "    </tr>\n",
       "  </tbody>\n",
       "</table>\n",
       "<p>61393 rows × 3 columns</p>\n",
       "</div>"
      ],
      "text/plain": [
       "                                                  Review  Rating  \\\n",
       "0      Great music service, the audio is high quality...       5   \n",
       "1      Please ignore previous negative rating. This a...       5   \n",
       "2      This pop-up \"Get the best Spotify experience o...       4   \n",
       "3        Really buggy and terrible to use as of recently       1   \n",
       "4      Dear Spotify why do I get songs that I didn't ...       1   \n",
       "...                                                  ...     ...   \n",
       "61589  Even though it was communicated that lyrics fe...       1   \n",
       "61590  Use to be sooo good back when I had it, and wh...       1   \n",
       "61591  This app would be good if not for it taking ov...       2   \n",
       "61592  The app is good hard to navigate and won't jus...       2   \n",
       "61593  Its good but sometimes it doesnt load the musi...       4   \n",
       "\n",
       "      Positive/Negative  \n",
       "0              Positive  \n",
       "1              Positive  \n",
       "2              Positive  \n",
       "3              Negative  \n",
       "4              Negative  \n",
       "...                 ...  \n",
       "61589          Negative  \n",
       "61590          Negative  \n",
       "61591          Negative  \n",
       "61592          Negative  \n",
       "61593          Positive  \n",
       "\n",
       "[61393 rows x 3 columns]"
      ]
     },
     "execution_count": 25,
     "metadata": {},
     "output_type": "execute_result"
    }
   ],
   "source": [
    "data"
   ]
  },
  {
   "cell_type": "code",
   "execution_count": 26,
   "id": "b34be92a",
   "metadata": {},
   "outputs": [
    {
     "data": {
      "text/plain": [
       "Positive    36662\n",
       "Negative    24731\n",
       "Name: Positive/Negative, dtype: int64"
      ]
     },
     "execution_count": 26,
     "metadata": {},
     "output_type": "execute_result"
    }
   ],
   "source": [
    "data['Positive/Negative'].value_counts()"
   ]
  },
  {
   "cell_type": "code",
   "execution_count": 37,
   "id": "a6811924",
   "metadata": {},
   "outputs": [
    {
     "name": "stderr",
     "output_type": "stream",
     "text": [
      "[nltk_data] Downloading package vader_lexicon to\n",
      "[nltk_data]     C:\\Users\\Superman\\AppData\\Roaming\\nltk_data...\n"
     ]
    },
    {
     "data": {
      "text/plain": [
       "True"
      ]
     },
     "execution_count": 37,
     "metadata": {},
     "output_type": "execute_result"
    }
   ],
   "source": [
    "import nltk\n",
    ">>> nltk.download('vader_lexicon')"
   ]
  },
  {
   "cell_type": "code",
   "execution_count": 40,
   "id": "4a98751c",
   "metadata": {},
   "outputs": [],
   "source": [
    "from nltk.sentiment import SentimentIntensityAnalyzer"
   ]
  },
  {
   "cell_type": "code",
   "execution_count": 41,
   "id": "0bd11799",
   "metadata": {},
   "outputs": [],
   "source": [
    "sentanalyzer=SentimentIntensityAnalyzer()"
   ]
  },
  {
   "cell_type": "code",
   "execution_count": 45,
   "id": "1eacd909",
   "metadata": {},
   "outputs": [],
   "source": [
    "data['Scores']=data['Review'].apply(lambda review: sentanalyzer.polarity_scores(review))"
   ]
  },
  {
   "cell_type": "code",
   "execution_count": 46,
   "id": "25f4839c",
   "metadata": {},
   "outputs": [
    {
     "data": {
      "text/html": [
       "<div>\n",
       "<style scoped>\n",
       "    .dataframe tbody tr th:only-of-type {\n",
       "        vertical-align: middle;\n",
       "    }\n",
       "\n",
       "    .dataframe tbody tr th {\n",
       "        vertical-align: top;\n",
       "    }\n",
       "\n",
       "    .dataframe thead th {\n",
       "        text-align: right;\n",
       "    }\n",
       "</style>\n",
       "<table border=\"1\" class=\"dataframe\">\n",
       "  <thead>\n",
       "    <tr style=\"text-align: right;\">\n",
       "      <th></th>\n",
       "      <th>Review</th>\n",
       "      <th>Rating</th>\n",
       "      <th>Positive/Negative</th>\n",
       "      <th>Scores</th>\n",
       "    </tr>\n",
       "  </thead>\n",
       "  <tbody>\n",
       "    <tr>\n",
       "      <th>0</th>\n",
       "      <td>Great music service, the audio is high quality...</td>\n",
       "      <td>5</td>\n",
       "      <td>Positive</td>\n",
       "      <td>{'neg': 0.0, 'neu': 0.564, 'pos': 0.436, 'comp...</td>\n",
       "    </tr>\n",
       "    <tr>\n",
       "      <th>1</th>\n",
       "      <td>Please ignore previous negative rating. This a...</td>\n",
       "      <td>5</td>\n",
       "      <td>Positive</td>\n",
       "      <td>{'neg': 0.243, 'neu': 0.353, 'pos': 0.404, 'co...</td>\n",
       "    </tr>\n",
       "    <tr>\n",
       "      <th>2</th>\n",
       "      <td>This pop-up \"Get the best Spotify experience o...</td>\n",
       "      <td>4</td>\n",
       "      <td>Positive</td>\n",
       "      <td>{'neg': 0.107, 'neu': 0.635, 'pos': 0.258, 'co...</td>\n",
       "    </tr>\n",
       "    <tr>\n",
       "      <th>3</th>\n",
       "      <td>Really buggy and terrible to use as of recently</td>\n",
       "      <td>1</td>\n",
       "      <td>Negative</td>\n",
       "      <td>{'neg': 0.296, 'neu': 0.704, 'pos': 0.0, 'comp...</td>\n",
       "    </tr>\n",
       "    <tr>\n",
       "      <th>4</th>\n",
       "      <td>Dear Spotify why do I get songs that I didn't ...</td>\n",
       "      <td>1</td>\n",
       "      <td>Negative</td>\n",
       "      <td>{'neg': 0.0, 'neu': 0.74, 'pos': 0.26, 'compou...</td>\n",
       "    </tr>\n",
       "    <tr>\n",
       "      <th>...</th>\n",
       "      <td>...</td>\n",
       "      <td>...</td>\n",
       "      <td>...</td>\n",
       "      <td>...</td>\n",
       "    </tr>\n",
       "    <tr>\n",
       "      <th>61589</th>\n",
       "      <td>Even though it was communicated that lyrics fe...</td>\n",
       "      <td>1</td>\n",
       "      <td>Negative</td>\n",
       "      <td>{'neg': 0.072, 'neu': 0.881, 'pos': 0.047, 'co...</td>\n",
       "    </tr>\n",
       "    <tr>\n",
       "      <th>61590</th>\n",
       "      <td>Use to be sooo good back when I had it, and wh...</td>\n",
       "      <td>1</td>\n",
       "      <td>Negative</td>\n",
       "      <td>{'neg': 0.069, 'neu': 0.704, 'pos': 0.227, 'co...</td>\n",
       "    </tr>\n",
       "    <tr>\n",
       "      <th>61591</th>\n",
       "      <td>This app would be good if not for it taking ov...</td>\n",
       "      <td>2</td>\n",
       "      <td>Negative</td>\n",
       "      <td>{'neg': 0.225, 'neu': 0.729, 'pos': 0.046, 'co...</td>\n",
       "    </tr>\n",
       "    <tr>\n",
       "      <th>61592</th>\n",
       "      <td>The app is good hard to navigate and won't jus...</td>\n",
       "      <td>2</td>\n",
       "      <td>Negative</td>\n",
       "      <td>{'neg': 0.023, 'neu': 0.818, 'pos': 0.159, 'co...</td>\n",
       "    </tr>\n",
       "    <tr>\n",
       "      <th>61593</th>\n",
       "      <td>Its good but sometimes it doesnt load the musi...</td>\n",
       "      <td>4</td>\n",
       "      <td>Positive</td>\n",
       "      <td>{'neg': 0.089, 'neu': 0.66, 'pos': 0.252, 'com...</td>\n",
       "    </tr>\n",
       "  </tbody>\n",
       "</table>\n",
       "<p>61393 rows × 4 columns</p>\n",
       "</div>"
      ],
      "text/plain": [
       "                                                  Review  Rating  \\\n",
       "0      Great music service, the audio is high quality...       5   \n",
       "1      Please ignore previous negative rating. This a...       5   \n",
       "2      This pop-up \"Get the best Spotify experience o...       4   \n",
       "3        Really buggy and terrible to use as of recently       1   \n",
       "4      Dear Spotify why do I get songs that I didn't ...       1   \n",
       "...                                                  ...     ...   \n",
       "61589  Even though it was communicated that lyrics fe...       1   \n",
       "61590  Use to be sooo good back when I had it, and wh...       1   \n",
       "61591  This app would be good if not for it taking ov...       2   \n",
       "61592  The app is good hard to navigate and won't jus...       2   \n",
       "61593  Its good but sometimes it doesnt load the musi...       4   \n",
       "\n",
       "      Positive/Negative                                             Scores  \n",
       "0              Positive  {'neg': 0.0, 'neu': 0.564, 'pos': 0.436, 'comp...  \n",
       "1              Positive  {'neg': 0.243, 'neu': 0.353, 'pos': 0.404, 'co...  \n",
       "2              Positive  {'neg': 0.107, 'neu': 0.635, 'pos': 0.258, 'co...  \n",
       "3              Negative  {'neg': 0.296, 'neu': 0.704, 'pos': 0.0, 'comp...  \n",
       "4              Negative  {'neg': 0.0, 'neu': 0.74, 'pos': 0.26, 'compou...  \n",
       "...                 ...                                                ...  \n",
       "61589          Negative  {'neg': 0.072, 'neu': 0.881, 'pos': 0.047, 'co...  \n",
       "61590          Negative  {'neg': 0.069, 'neu': 0.704, 'pos': 0.227, 'co...  \n",
       "61591          Negative  {'neg': 0.225, 'neu': 0.729, 'pos': 0.046, 'co...  \n",
       "61592          Negative  {'neg': 0.023, 'neu': 0.818, 'pos': 0.159, 'co...  \n",
       "61593          Positive  {'neg': 0.089, 'neu': 0.66, 'pos': 0.252, 'com...  \n",
       "\n",
       "[61393 rows x 4 columns]"
      ]
     },
     "execution_count": 46,
     "metadata": {},
     "output_type": "execute_result"
    }
   ],
   "source": [
    "data"
   ]
  },
  {
   "cell_type": "code",
   "execution_count": 47,
   "id": "064f9a28",
   "metadata": {},
   "outputs": [],
   "source": [
    "data['compound']=data['Scores'].apply(lambda f:f['compound'])"
   ]
  },
  {
   "cell_type": "code",
   "execution_count": 48,
   "id": "5961ddff",
   "metadata": {},
   "outputs": [
    {
     "data": {
      "text/html": [
       "<div>\n",
       "<style scoped>\n",
       "    .dataframe tbody tr th:only-of-type {\n",
       "        vertical-align: middle;\n",
       "    }\n",
       "\n",
       "    .dataframe tbody tr th {\n",
       "        vertical-align: top;\n",
       "    }\n",
       "\n",
       "    .dataframe thead th {\n",
       "        text-align: right;\n",
       "    }\n",
       "</style>\n",
       "<table border=\"1\" class=\"dataframe\">\n",
       "  <thead>\n",
       "    <tr style=\"text-align: right;\">\n",
       "      <th></th>\n",
       "      <th>Review</th>\n",
       "      <th>Rating</th>\n",
       "      <th>Positive/Negative</th>\n",
       "      <th>Scores</th>\n",
       "      <th>compound</th>\n",
       "    </tr>\n",
       "  </thead>\n",
       "  <tbody>\n",
       "    <tr>\n",
       "      <th>0</th>\n",
       "      <td>Great music service, the audio is high quality...</td>\n",
       "      <td>5</td>\n",
       "      <td>Positive</td>\n",
       "      <td>{'neg': 0.0, 'neu': 0.564, 'pos': 0.436, 'comp...</td>\n",
       "      <td>0.9211</td>\n",
       "    </tr>\n",
       "    <tr>\n",
       "      <th>1</th>\n",
       "      <td>Please ignore previous negative rating. This a...</td>\n",
       "      <td>5</td>\n",
       "      <td>Positive</td>\n",
       "      <td>{'neg': 0.243, 'neu': 0.353, 'pos': 0.404, 'co...</td>\n",
       "      <td>0.6249</td>\n",
       "    </tr>\n",
       "    <tr>\n",
       "      <th>2</th>\n",
       "      <td>This pop-up \"Get the best Spotify experience o...</td>\n",
       "      <td>4</td>\n",
       "      <td>Positive</td>\n",
       "      <td>{'neg': 0.107, 'neu': 0.635, 'pos': 0.258, 'co...</td>\n",
       "      <td>0.5859</td>\n",
       "    </tr>\n",
       "    <tr>\n",
       "      <th>3</th>\n",
       "      <td>Really buggy and terrible to use as of recently</td>\n",
       "      <td>1</td>\n",
       "      <td>Negative</td>\n",
       "      <td>{'neg': 0.296, 'neu': 0.704, 'pos': 0.0, 'comp...</td>\n",
       "      <td>-0.5209</td>\n",
       "    </tr>\n",
       "    <tr>\n",
       "      <th>4</th>\n",
       "      <td>Dear Spotify why do I get songs that I didn't ...</td>\n",
       "      <td>1</td>\n",
       "      <td>Negative</td>\n",
       "      <td>{'neg': 0.0, 'neu': 0.74, 'pos': 0.26, 'compou...</td>\n",
       "      <td>0.7149</td>\n",
       "    </tr>\n",
       "    <tr>\n",
       "      <th>...</th>\n",
       "      <td>...</td>\n",
       "      <td>...</td>\n",
       "      <td>...</td>\n",
       "      <td>...</td>\n",
       "      <td>...</td>\n",
       "    </tr>\n",
       "    <tr>\n",
       "      <th>61589</th>\n",
       "      <td>Even though it was communicated that lyrics fe...</td>\n",
       "      <td>1</td>\n",
       "      <td>Negative</td>\n",
       "      <td>{'neg': 0.072, 'neu': 0.881, 'pos': 0.047, 'co...</td>\n",
       "      <td>-0.2960</td>\n",
       "    </tr>\n",
       "    <tr>\n",
       "      <th>61590</th>\n",
       "      <td>Use to be sooo good back when I had it, and wh...</td>\n",
       "      <td>1</td>\n",
       "      <td>Negative</td>\n",
       "      <td>{'neg': 0.069, 'neu': 0.704, 'pos': 0.227, 'co...</td>\n",
       "      <td>0.8481</td>\n",
       "    </tr>\n",
       "    <tr>\n",
       "      <th>61591</th>\n",
       "      <td>This app would be good if not for it taking ov...</td>\n",
       "      <td>2</td>\n",
       "      <td>Negative</td>\n",
       "      <td>{'neg': 0.225, 'neu': 0.729, 'pos': 0.046, 'co...</td>\n",
       "      <td>-0.9611</td>\n",
       "    </tr>\n",
       "    <tr>\n",
       "      <th>61592</th>\n",
       "      <td>The app is good hard to navigate and won't jus...</td>\n",
       "      <td>2</td>\n",
       "      <td>Negative</td>\n",
       "      <td>{'neg': 0.023, 'neu': 0.818, 'pos': 0.159, 'co...</td>\n",
       "      <td>0.8074</td>\n",
       "    </tr>\n",
       "    <tr>\n",
       "      <th>61593</th>\n",
       "      <td>Its good but sometimes it doesnt load the musi...</td>\n",
       "      <td>4</td>\n",
       "      <td>Positive</td>\n",
       "      <td>{'neg': 0.089, 'neu': 0.66, 'pos': 0.252, 'com...</td>\n",
       "      <td>0.8641</td>\n",
       "    </tr>\n",
       "  </tbody>\n",
       "</table>\n",
       "<p>61393 rows × 5 columns</p>\n",
       "</div>"
      ],
      "text/plain": [
       "                                                  Review  Rating  \\\n",
       "0      Great music service, the audio is high quality...       5   \n",
       "1      Please ignore previous negative rating. This a...       5   \n",
       "2      This pop-up \"Get the best Spotify experience o...       4   \n",
       "3        Really buggy and terrible to use as of recently       1   \n",
       "4      Dear Spotify why do I get songs that I didn't ...       1   \n",
       "...                                                  ...     ...   \n",
       "61589  Even though it was communicated that lyrics fe...       1   \n",
       "61590  Use to be sooo good back when I had it, and wh...       1   \n",
       "61591  This app would be good if not for it taking ov...       2   \n",
       "61592  The app is good hard to navigate and won't jus...       2   \n",
       "61593  Its good but sometimes it doesnt load the musi...       4   \n",
       "\n",
       "      Positive/Negative                                             Scores  \\\n",
       "0              Positive  {'neg': 0.0, 'neu': 0.564, 'pos': 0.436, 'comp...   \n",
       "1              Positive  {'neg': 0.243, 'neu': 0.353, 'pos': 0.404, 'co...   \n",
       "2              Positive  {'neg': 0.107, 'neu': 0.635, 'pos': 0.258, 'co...   \n",
       "3              Negative  {'neg': 0.296, 'neu': 0.704, 'pos': 0.0, 'comp...   \n",
       "4              Negative  {'neg': 0.0, 'neu': 0.74, 'pos': 0.26, 'compou...   \n",
       "...                 ...                                                ...   \n",
       "61589          Negative  {'neg': 0.072, 'neu': 0.881, 'pos': 0.047, 'co...   \n",
       "61590          Negative  {'neg': 0.069, 'neu': 0.704, 'pos': 0.227, 'co...   \n",
       "61591          Negative  {'neg': 0.225, 'neu': 0.729, 'pos': 0.046, 'co...   \n",
       "61592          Negative  {'neg': 0.023, 'neu': 0.818, 'pos': 0.159, 'co...   \n",
       "61593          Positive  {'neg': 0.089, 'neu': 0.66, 'pos': 0.252, 'com...   \n",
       "\n",
       "       compound  \n",
       "0        0.9211  \n",
       "1        0.6249  \n",
       "2        0.5859  \n",
       "3       -0.5209  \n",
       "4        0.7149  \n",
       "...         ...  \n",
       "61589   -0.2960  \n",
       "61590    0.8481  \n",
       "61591   -0.9611  \n",
       "61592    0.8074  \n",
       "61593    0.8641  \n",
       "\n",
       "[61393 rows x 5 columns]"
      ]
     },
     "execution_count": 48,
     "metadata": {},
     "output_type": "execute_result"
    }
   ],
   "source": [
    "data"
   ]
  },
  {
   "cell_type": "code",
   "execution_count": 49,
   "id": "28d23bf5",
   "metadata": {},
   "outputs": [],
   "source": [
    "data['compound_posorneg']= data['compound'].apply(lambda score:'Positive' if score >= 0 else 'Negative')"
   ]
  },
  {
   "cell_type": "code",
   "execution_count": 51,
   "id": "cb7381ac",
   "metadata": {},
   "outputs": [
    {
     "data": {
      "text/html": [
       "<div>\n",
       "<style scoped>\n",
       "    .dataframe tbody tr th:only-of-type {\n",
       "        vertical-align: middle;\n",
       "    }\n",
       "\n",
       "    .dataframe tbody tr th {\n",
       "        vertical-align: top;\n",
       "    }\n",
       "\n",
       "    .dataframe thead th {\n",
       "        text-align: right;\n",
       "    }\n",
       "</style>\n",
       "<table border=\"1\" class=\"dataframe\">\n",
       "  <thead>\n",
       "    <tr style=\"text-align: right;\">\n",
       "      <th></th>\n",
       "      <th>Review</th>\n",
       "      <th>Rating</th>\n",
       "      <th>Positive/Negative</th>\n",
       "      <th>Scores</th>\n",
       "      <th>compound</th>\n",
       "      <th>compound_posorneg</th>\n",
       "    </tr>\n",
       "  </thead>\n",
       "  <tbody>\n",
       "    <tr>\n",
       "      <th>0</th>\n",
       "      <td>Great music service, the audio is high quality...</td>\n",
       "      <td>5</td>\n",
       "      <td>Positive</td>\n",
       "      <td>{'neg': 0.0, 'neu': 0.564, 'pos': 0.436, 'comp...</td>\n",
       "      <td>0.9211</td>\n",
       "      <td>Positive</td>\n",
       "    </tr>\n",
       "    <tr>\n",
       "      <th>1</th>\n",
       "      <td>Please ignore previous negative rating. This a...</td>\n",
       "      <td>5</td>\n",
       "      <td>Positive</td>\n",
       "      <td>{'neg': 0.243, 'neu': 0.353, 'pos': 0.404, 'co...</td>\n",
       "      <td>0.6249</td>\n",
       "      <td>Positive</td>\n",
       "    </tr>\n",
       "    <tr>\n",
       "      <th>2</th>\n",
       "      <td>This pop-up \"Get the best Spotify experience o...</td>\n",
       "      <td>4</td>\n",
       "      <td>Positive</td>\n",
       "      <td>{'neg': 0.107, 'neu': 0.635, 'pos': 0.258, 'co...</td>\n",
       "      <td>0.5859</td>\n",
       "      <td>Positive</td>\n",
       "    </tr>\n",
       "    <tr>\n",
       "      <th>3</th>\n",
       "      <td>Really buggy and terrible to use as of recently</td>\n",
       "      <td>1</td>\n",
       "      <td>Negative</td>\n",
       "      <td>{'neg': 0.296, 'neu': 0.704, 'pos': 0.0, 'comp...</td>\n",
       "      <td>-0.5209</td>\n",
       "      <td>Negative</td>\n",
       "    </tr>\n",
       "    <tr>\n",
       "      <th>4</th>\n",
       "      <td>Dear Spotify why do I get songs that I didn't ...</td>\n",
       "      <td>1</td>\n",
       "      <td>Negative</td>\n",
       "      <td>{'neg': 0.0, 'neu': 0.74, 'pos': 0.26, 'compou...</td>\n",
       "      <td>0.7149</td>\n",
       "      <td>Positive</td>\n",
       "    </tr>\n",
       "  </tbody>\n",
       "</table>\n",
       "</div>"
      ],
      "text/plain": [
       "                                              Review  Rating  \\\n",
       "0  Great music service, the audio is high quality...       5   \n",
       "1  Please ignore previous negative rating. This a...       5   \n",
       "2  This pop-up \"Get the best Spotify experience o...       4   \n",
       "3    Really buggy and terrible to use as of recently       1   \n",
       "4  Dear Spotify why do I get songs that I didn't ...       1   \n",
       "\n",
       "  Positive/Negative                                             Scores  \\\n",
       "0          Positive  {'neg': 0.0, 'neu': 0.564, 'pos': 0.436, 'comp...   \n",
       "1          Positive  {'neg': 0.243, 'neu': 0.353, 'pos': 0.404, 'co...   \n",
       "2          Positive  {'neg': 0.107, 'neu': 0.635, 'pos': 0.258, 'co...   \n",
       "3          Negative  {'neg': 0.296, 'neu': 0.704, 'pos': 0.0, 'comp...   \n",
       "4          Negative  {'neg': 0.0, 'neu': 0.74, 'pos': 0.26, 'compou...   \n",
       "\n",
       "   compound compound_posorneg  \n",
       "0    0.9211          Positive  \n",
       "1    0.6249          Positive  \n",
       "2    0.5859          Positive  \n",
       "3   -0.5209          Negative  \n",
       "4    0.7149          Positive  "
      ]
     },
     "execution_count": 51,
     "metadata": {},
     "output_type": "execute_result"
    }
   ],
   "source": [
    "data.head()"
   ]
  },
  {
   "cell_type": "code",
   "execution_count": 52,
   "id": "6bb6e380",
   "metadata": {},
   "outputs": [],
   "source": [
    "from sklearn.metrics import accuracy_score"
   ]
  },
  {
   "cell_type": "code",
   "execution_count": 54,
   "id": "01dc172e",
   "metadata": {},
   "outputs": [
    {
     "data": {
      "text/plain": [
       "0.7245940090889841"
      ]
     },
     "execution_count": 54,
     "metadata": {},
     "output_type": "execute_result"
    }
   ],
   "source": [
    "accuracy_score(data['Positive/Negative'],data['compound_posorneg'])"
   ]
  },
  {
   "cell_type": "code",
   "execution_count": 58,
   "id": "d4658211",
   "metadata": {},
   "outputs": [
    {
     "data": {
      "text/plain": [
       "{'neg': 0.0, 'neu': 0.435, 'pos': 0.565, 'compound': 0.7574}"
      ]
     },
     "execution_count": 58,
     "metadata": {},
     "output_type": "execute_result"
    }
   ],
   "source": [
    "example = \"Application is good. I really enjoyed using it\"\n",
    "sentanalyzer.polarity_scores(example)"
   ]
  },
  {
   "cell_type": "code",
   "execution_count": 59,
   "id": "b84a0f63",
   "metadata": {},
   "outputs": [
    {
     "data": {
      "text/plain": [
       "{'neg': 0.413, 'neu': 0.587, 'pos': 0.0, 'compound': -0.2755}"
      ]
     },
     "execution_count": 59,
     "metadata": {},
     "output_type": "execute_result"
    }
   ],
   "source": [
    "example2=\"I didn't like the app\"\n",
    "sentanalyzer.polarity_scores(example2)"
   ]
  },
  {
   "cell_type": "code",
   "execution_count": null,
   "id": "df7b8a40",
   "metadata": {},
   "outputs": [],
   "source": []
  }
 ],
 "metadata": {
  "kernelspec": {
   "display_name": "Python 3 (ipykernel)",
   "language": "python",
   "name": "python3"
  },
  "language_info": {
   "codemirror_mode": {
    "name": "ipython",
    "version": 3
   },
   "file_extension": ".py",
   "mimetype": "text/x-python",
   "name": "python",
   "nbconvert_exporter": "python",
   "pygments_lexer": "ipython3",
   "version": "3.9.13"
  }
 },
 "nbformat": 4,
 "nbformat_minor": 5
}
